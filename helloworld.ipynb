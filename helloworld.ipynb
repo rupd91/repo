{
 "cells": [
  {
   "cell_type": "code",
   "execution_count": 20,
   "id": "523d9d6e-0554-461e-a848-f0e62f840831",
   "metadata": {},
   "outputs": [
    {
     "data": {
      "application/vnd.jupyter.widget-view+json": {
       "model_id": "891b5b3a921f44b898bf7ecf2cce582d",
       "version_major": 2,
       "version_minor": 0
      },
      "text/plain": [
       "VBox(children=(FloatText(value=0.0, description='Input 1:'), FloatText(value=0.0, description='Input 2:'), Int…"
      ]
     },
     "metadata": {},
     "output_type": "display_data"
    }
   ],
   "source": [
    "import ipywidgets as widgets\n",
    "from IPython.display import display, clear_output\n",
    "\n",
    "input1 = widgets.FloatText(description='Input 1:')\n",
    "input2 = widgets.FloatText(description='Input 2:')\n",
    "slider = widgets.IntSlider(description='Slider:', min=0, max=100)\n",
    "button = widgets.Button(description='Submit')\n",
    "\n",
    "output = widgets.Output()\n",
    "\n",
    "def on_click(b):\n",
    "    with output:\n",
    "        clear_output(wait=True)\n",
    "        print(f\"Output: ({input1.value} × {input2.value}) + {slider.value} = {input1.value * input2.value + slider.value}\")\n",
    "\n",
    "\n",
    "button.on_click(on_click)\n",
    "\n",
    "ui = widgets.VBox([input1, input2, slider, button, output])\n",
    "display(ui)\n"
   ]
  },
  {
   "cell_type": "code",
   "execution_count": null,
   "id": "ba3a3a9f-90a0-4c00-b7d0-0ef0323e7e41",
   "metadata": {},
   "outputs": [],
   "source": []
  },
  {
   "cell_type": "code",
   "execution_count": null,
   "id": "d4ac56d3-c35e-473e-b043-f607a403a3b0",
   "metadata": {},
   "outputs": [],
   "source": []
  },
  {
   "cell_type": "code",
   "execution_count": null,
   "id": "338de758-3345-4d64-be40-7c0e1dcdc96c",
   "metadata": {},
   "outputs": [],
   "source": []
  }
 ],
 "metadata": {
  "kernelspec": {
   "display_name": "Python 3 (ipykernel)",
   "language": "python",
   "name": "python3"
  },
  "language_info": {
   "codemirror_mode": {
    "name": "ipython",
    "version": 3
   },
   "file_extension": ".py",
   "mimetype": "text/x-python",
   "name": "python",
   "nbconvert_exporter": "python",
   "pygments_lexer": "ipython3",
   "version": "3.8.10"
  },
  "widgets": {
   "application/vnd.jupyter.widget-state+json": {
    "state": {
     "0ada32629524406da73e045844f2ad8e": {
      "model_module": "@jupyter-widgets/controls",
      "model_module_version": "2.0.0",
      "model_name": "ButtonModel",
      "state": {
       "description": "Submit",
       "layout": "IPY_MODEL_1ce77242d2bd4b5d9f7fe01c5c58c2ba",
       "style": "IPY_MODEL_4f4eaa3fce034b4985c82def1b75cbed",
       "tooltip": null
      }
     },
     "0be0da20f1764c37833346bf7868d63f": {
      "model_module": "@jupyter-widgets/controls",
      "model_module_version": "2.0.0",
      "model_name": "ButtonModel",
      "state": {
       "description": "Submit",
       "layout": "IPY_MODEL_7ce7994567cd400196573a7d78087c62",
       "style": "IPY_MODEL_52e551ed1b7f4493b0df09672242bf13",
       "tooltip": null
      }
     },
     "0bfcd61fc87a40a58df6cba883d0e5d4": {
      "model_module": "@jupyter-widgets/controls",
      "model_module_version": "2.0.0",
      "model_name": "ButtonStyleModel",
      "state": {
       "font_family": null,
       "font_size": null,
       "font_style": null,
       "font_variant": null,
       "font_weight": null,
       "text_color": null,
       "text_decoration": null
      }
     },
     "0c52fa52f8494858b506084da7b9a927": {
      "model_module": "@jupyter-widgets/base",
      "model_module_version": "2.0.0",
      "model_name": "LayoutModel",
      "state": {}
     },
     "0d8ae6db10fc408088ebcfcf9fbfd336": {
      "model_module": "@jupyter-widgets/base",
      "model_module_version": "2.0.0",
      "model_name": "LayoutModel",
      "state": {}
     },
     "130503848b574d34bdafab00b3c4e1e0": {
      "model_module": "@jupyter-widgets/controls",
      "model_module_version": "2.0.0",
      "model_name": "FloatTextModel",
      "state": {
       "description": "Input 1:",
       "layout": "IPY_MODEL_0c52fa52f8494858b506084da7b9a927",
       "step": null,
       "style": "IPY_MODEL_16b9f8bc7db04f49bde363c0627505d0"
      }
     },
     "16b9f8bc7db04f49bde363c0627505d0": {
      "model_module": "@jupyter-widgets/controls",
      "model_module_version": "2.0.0",
      "model_name": "DescriptionStyleModel",
      "state": {
       "description_width": ""
      }
     },
     "18950e59af0d4854a319837eb84bf997": {
      "model_module": "@jupyter-widgets/controls",
      "model_module_version": "2.0.0",
      "model_name": "ButtonModel",
      "state": {
       "description": "Submit",
       "layout": "IPY_MODEL_640ef797161647df9d5cabb784078998",
       "style": "IPY_MODEL_ed4b3e41bdce43c095e91f996bb2ef67",
       "tooltip": null
      }
     },
     "19a66ca9f3f44e0ca8f3d50c291acdaa": {
      "model_module": "@jupyter-widgets/base",
      "model_module_version": "2.0.0",
      "model_name": "LayoutModel",
      "state": {}
     },
     "1be12c0f3c564c9d9ecb4511086c9dc8": {
      "model_module": "@jupyter-widgets/controls",
      "model_module_version": "2.0.0",
      "model_name": "FloatTextModel",
      "state": {
       "description": "Input 2:",
       "layout": "IPY_MODEL_4133b18d192048f8a5517d6651831539",
       "step": null,
       "style": "IPY_MODEL_fb3d91a8aba844339920b2e439269373"
      }
     },
     "1cb5ba0f42ed4655b865d47c9d67deeb": {
      "model_module": "@jupyter-widgets/controls",
      "model_module_version": "2.0.0",
      "model_name": "IntSliderModel",
      "state": {
       "behavior": "drag-tap",
       "description": "Slider:",
       "layout": "IPY_MODEL_71e1173221984ab380758bd3216eb2c9",
       "style": "IPY_MODEL_aed40954a3f940068481c5dab55c8b63",
       "value": 10
      }
     },
     "1ce77242d2bd4b5d9f7fe01c5c58c2ba": {
      "model_module": "@jupyter-widgets/base",
      "model_module_version": "2.0.0",
      "model_name": "LayoutModel",
      "state": {}
     },
     "1eb19cb0860f4144b34d139c56a610cc": {
      "model_module": "@jupyter-widgets/base",
      "model_module_version": "2.0.0",
      "model_name": "LayoutModel",
      "state": {}
     },
     "2096938a16f1490785bc8c4c64fba406": {
      "model_module": "@jupyter-widgets/controls",
      "model_module_version": "2.0.0",
      "model_name": "IntSliderModel",
      "state": {
       "behavior": "drag-tap",
       "description": "Slider:",
       "layout": "IPY_MODEL_26d824ab9d384e68a94aaff44c41d707",
       "style": "IPY_MODEL_6b0c7e73398e400295b43b448dfe7b59",
       "value": 35
      }
     },
     "211f4ed3092946febcaec69796cf9054": {
      "model_module": "@jupyter-widgets/controls",
      "model_module_version": "2.0.0",
      "model_name": "DescriptionStyleModel",
      "state": {
       "description_width": ""
      }
     },
     "217752fcd1eb4d44969b08965bc1076c": {
      "model_module": "@jupyter-widgets/controls",
      "model_module_version": "2.0.0",
      "model_name": "ButtonStyleModel",
      "state": {
       "font_family": null,
       "font_size": null,
       "font_style": null,
       "font_variant": null,
       "font_weight": null,
       "text_color": null,
       "text_decoration": null
      }
     },
     "217e329b064149faa4756b729273c110": {
      "model_module": "@jupyter-widgets/controls",
      "model_module_version": "2.0.0",
      "model_name": "ButtonStyleModel",
      "state": {
       "font_family": null,
       "font_size": null,
       "font_style": null,
       "font_variant": null,
       "font_weight": null,
       "text_color": null,
       "text_decoration": null
      }
     },
     "26d824ab9d384e68a94aaff44c41d707": {
      "model_module": "@jupyter-widgets/base",
      "model_module_version": "2.0.0",
      "model_name": "LayoutModel",
      "state": {}
     },
     "27d84422160d444d9b3126063f850abb": {
      "model_module": "@jupyter-widgets/controls",
      "model_module_version": "2.0.0",
      "model_name": "FloatTextModel",
      "state": {
       "description": "Input 1:",
       "layout": "IPY_MODEL_43e8b29d00a8487582e591e9e932d0c0",
       "step": null,
       "style": "IPY_MODEL_66b5f836b2fd4f3b8265f48cbedff771",
       "value": 3
      }
     },
     "298a81fc5c024713bacb63548b3ea876": {
      "model_module": "@jupyter-widgets/controls",
      "model_module_version": "2.0.0",
      "model_name": "FloatTextModel",
      "state": {
       "description": "Input 1:",
       "layout": "IPY_MODEL_b1bee305b77c4adfa1b10a5adc103c74",
       "step": null,
       "style": "IPY_MODEL_52f209859b7a47acb00f7c7876b2805f",
       "value": 5
      }
     },
     "2aa42d4ad9934c62a2971e1fdc023c82": {
      "model_module": "@jupyter-widgets/base",
      "model_module_version": "2.0.0",
      "model_name": "LayoutModel",
      "state": {}
     },
     "2bfd57de2cc3465693d8f0105fc2efac": {
      "model_module": "@jupyter-widgets/controls",
      "model_module_version": "2.0.0",
      "model_name": "DescriptionStyleModel",
      "state": {
       "description_width": ""
      }
     },
     "2d958ee608394bb88bcbff2aa5b3ed0f": {
      "model_module": "@jupyter-widgets/controls",
      "model_module_version": "2.0.0",
      "model_name": "SliderStyleModel",
      "state": {
       "description_width": ""
      }
     },
     "2e15f49fb24944d0b802f37dc13d5f71": {
      "model_module": "@jupyter-widgets/controls",
      "model_module_version": "2.0.0",
      "model_name": "VBoxModel",
      "state": {
       "children": [
        "IPY_MODEL_762bdb0bc6f440859a80d9502431b8dc",
        "IPY_MODEL_2ed731583cc14d6089bf0d262b4abed8",
        "IPY_MODEL_1cb5ba0f42ed4655b865d47c9d67deeb",
        "IPY_MODEL_a592c7c9164747c388dcc47716cc4651",
        "IPY_MODEL_a1ed5a068c1645e1b4a4560fe63317cb"
       ],
       "layout": "IPY_MODEL_ded1538b1b044a928cd863e6d41000ed"
      }
     },
     "2ed731583cc14d6089bf0d262b4abed8": {
      "model_module": "@jupyter-widgets/controls",
      "model_module_version": "2.0.0",
      "model_name": "FloatTextModel",
      "state": {
       "description": "Input 2:",
       "layout": "IPY_MODEL_5413e67eb6d14d73b92047ff98557813",
       "step": null,
       "style": "IPY_MODEL_6bfe6cb473244a9d848dfc7dfd0f4e8c",
       "value": 2
      }
     },
     "2ff88e2c665a425db646d318bb95ec74": {
      "model_module": "@jupyter-widgets/controls",
      "model_module_version": "2.0.0",
      "model_name": "FloatTextModel",
      "state": {
       "description": "Input 2:",
       "layout": "IPY_MODEL_82730b59f0b04779914469b64e5c3127",
       "step": null,
       "style": "IPY_MODEL_48d0a90692f842269cdbcf6f6dddd378",
       "value": 3
      }
     },
     "30719efeb8fa425ea979b0eedd2778b2": {
      "model_module": "@jupyter-widgets/controls",
      "model_module_version": "2.0.0",
      "model_name": "DescriptionStyleModel",
      "state": {
       "description_width": ""
      }
     },
     "35e152b8074a492ab9c103d363a872cd": {
      "model_module": "@jupyter-widgets/controls",
      "model_module_version": "2.0.0",
      "model_name": "IntSliderModel",
      "state": {
       "behavior": "drag-tap",
       "description": "Slider:",
       "layout": "IPY_MODEL_f0b103cf430b4d22b962400156d5cefe",
       "style": "IPY_MODEL_db337203b2024e179280f8c3b1a78297"
      }
     },
     "36c3bbc784d4490b9e6ce9cbbb963c47": {
      "model_module": "@jupyter-widgets/controls",
      "model_module_version": "2.0.0",
      "model_name": "VBoxModel",
      "state": {
       "children": [
        "IPY_MODEL_27d84422160d444d9b3126063f850abb",
        "IPY_MODEL_77aeec5e724a4616af34c2ad1080eac2",
        "IPY_MODEL_ba61b995825044a5b51c569234638b04",
        "IPY_MODEL_18950e59af0d4854a319837eb84bf997",
        "IPY_MODEL_9dbe1c95bb574035a60375f5f8755191"
       ],
       "layout": "IPY_MODEL_a5f65a0850e148ce998ed668483e9037"
      }
     },
     "377412d9b7a644308e385809ce49f3b9": {
      "model_module": "@jupyter-widgets/controls",
      "model_module_version": "2.0.0",
      "model_name": "VBoxModel",
      "state": {
       "children": [
        "IPY_MODEL_f8c45ef8f3324fce9b3272e2af290ade",
        "IPY_MODEL_7fc8f7b213a44511a436aedfd37a50f0",
        "IPY_MODEL_f6ca57a3031f46eeab1318da6bb928ca",
        "IPY_MODEL_adda88707d8d4c0ea3d7d960a9c137ac",
        "IPY_MODEL_ea594a30571d43a49a4facdbb7f5541c"
       ],
       "layout": "IPY_MODEL_cd73f6df0d5743bcbcc18b3789b1e0d2"
      }
     },
     "38e5669b8b7d451f89aacbc71c47e830": {
      "model_module": "@jupyter-widgets/base",
      "model_module_version": "2.0.0",
      "model_name": "LayoutModel",
      "state": {}
     },
     "3c57d3372b8f4d9fa5e37fd385a8f5fc": {
      "model_module": "@jupyter-widgets/controls",
      "model_module_version": "2.0.0",
      "model_name": "VBoxModel",
      "state": {
       "children": [
        "IPY_MODEL_298a81fc5c024713bacb63548b3ea876",
        "IPY_MODEL_2ff88e2c665a425db646d318bb95ec74",
        "IPY_MODEL_2096938a16f1490785bc8c4c64fba406",
        "IPY_MODEL_0be0da20f1764c37833346bf7868d63f",
        "IPY_MODEL_5bd1efe886f54965ae168772f5a1411f"
       ],
       "layout": "IPY_MODEL_8d65d7566fd94f4db58174d568242130"
      }
     },
     "3e64783c7a7e462fbd12774c986def9b": {
      "model_module": "@jupyter-widgets/controls",
      "model_module_version": "2.0.0",
      "model_name": "VBoxModel",
      "state": {
       "children": [
        "IPY_MODEL_130503848b574d34bdafab00b3c4e1e0",
        "IPY_MODEL_c8e22a17d172490ca07bd29146d9ef18",
        "IPY_MODEL_42083ce116a140f3b3ad8fa743f15d9d",
        "IPY_MODEL_4f007c02381e42a1b2b5dd09e8b168cd",
        "IPY_MODEL_9282fa203cf74ccea3c92bcd93ea25d7"
       ],
       "layout": "IPY_MODEL_e5464f282608421dbefacd68953f6b67"
      }
     },
     "4133b18d192048f8a5517d6651831539": {
      "model_module": "@jupyter-widgets/base",
      "model_module_version": "2.0.0",
      "model_name": "LayoutModel",
      "state": {}
     },
     "42083ce116a140f3b3ad8fa743f15d9d": {
      "model_module": "@jupyter-widgets/controls",
      "model_module_version": "2.0.0",
      "model_name": "IntSliderModel",
      "state": {
       "behavior": "drag-tap",
       "description": "Slider:",
       "layout": "IPY_MODEL_f195c3efa77a498f9e60122bc49bb651",
       "style": "IPY_MODEL_2d958ee608394bb88bcbff2aa5b3ed0f"
      }
     },
     "43e8b29d00a8487582e591e9e932d0c0": {
      "model_module": "@jupyter-widgets/base",
      "model_module_version": "2.0.0",
      "model_name": "LayoutModel",
      "state": {}
     },
     "45263adf732146aa8bee55e2b162ebac": {
      "model_module": "@jupyter-widgets/controls",
      "model_module_version": "2.0.0",
      "model_name": "DescriptionStyleModel",
      "state": {
       "description_width": ""
      }
     },
     "48d0a90692f842269cdbcf6f6dddd378": {
      "model_module": "@jupyter-widgets/controls",
      "model_module_version": "2.0.0",
      "model_name": "DescriptionStyleModel",
      "state": {
       "description_width": ""
      }
     },
     "4942a1e31f3d43dfbe2a7f6623a6c327": {
      "model_module": "@jupyter-widgets/controls",
      "model_module_version": "2.0.0",
      "model_name": "IntSliderModel",
      "state": {
       "behavior": "drag-tap",
       "description": "Slider:",
       "layout": "IPY_MODEL_1eb19cb0860f4144b34d139c56a610cc",
       "style": "IPY_MODEL_86e381dddcd54d2dbb371b36eddb15aa"
      }
     },
     "49cc71a8757646cea5377667edd2e13f": {
      "model_module": "@jupyter-widgets/controls",
      "model_module_version": "2.0.0",
      "model_name": "FloatTextModel",
      "state": {
       "description": "Input 2:",
       "layout": "IPY_MODEL_cbfdeb2240a94d1d8d7e72ff14182796",
       "step": null,
       "style": "IPY_MODEL_2bfd57de2cc3465693d8f0105fc2efac",
       "value": 3
      }
     },
     "4e7b3673f57e4f3cb552f227ac945805": {
      "model_module": "@jupyter-widgets/base",
      "model_module_version": "2.0.0",
      "model_name": "LayoutModel",
      "state": {}
     },
     "4f007c02381e42a1b2b5dd09e8b168cd": {
      "model_module": "@jupyter-widgets/controls",
      "model_module_version": "2.0.0",
      "model_name": "ButtonModel",
      "state": {
       "description": "Submit",
       "layout": "IPY_MODEL_2aa42d4ad9934c62a2971e1fdc023c82",
       "style": "IPY_MODEL_96ccb3eaddd645e98112c12833db54b6",
       "tooltip": null
      }
     },
     "4f4eaa3fce034b4985c82def1b75cbed": {
      "model_module": "@jupyter-widgets/controls",
      "model_module_version": "2.0.0",
      "model_name": "ButtonStyleModel",
      "state": {
       "font_family": null,
       "font_size": null,
       "font_style": null,
       "font_variant": null,
       "font_weight": null,
       "text_color": null,
       "text_decoration": null
      }
     },
     "52e551ed1b7f4493b0df09672242bf13": {
      "model_module": "@jupyter-widgets/controls",
      "model_module_version": "2.0.0",
      "model_name": "ButtonStyleModel",
      "state": {
       "font_family": null,
       "font_size": null,
       "font_style": null,
       "font_variant": null,
       "font_weight": null,
       "text_color": null,
       "text_decoration": null
      }
     },
     "52f209859b7a47acb00f7c7876b2805f": {
      "model_module": "@jupyter-widgets/controls",
      "model_module_version": "2.0.0",
      "model_name": "DescriptionStyleModel",
      "state": {
       "description_width": ""
      }
     },
     "53467e58e65a47669a64fcf5f1e8d3dc": {
      "model_module": "@jupyter-widgets/controls",
      "model_module_version": "2.0.0",
      "model_name": "VBoxModel",
      "state": {
       "children": [
        "IPY_MODEL_dfc54e89c62a4f0e84af4d945f506e3d",
        "IPY_MODEL_1be12c0f3c564c9d9ecb4511086c9dc8",
        "IPY_MODEL_4942a1e31f3d43dfbe2a7f6623a6c327",
        "IPY_MODEL_78e58f46e09d47ae9e58c133562e3f88",
        "IPY_MODEL_630db6b88a88439cafc464d2c1f6439a"
       ],
       "layout": "IPY_MODEL_951a040a33e24a0f98418b51186752bd"
      }
     },
     "5413e67eb6d14d73b92047ff98557813": {
      "model_module": "@jupyter-widgets/base",
      "model_module_version": "2.0.0",
      "model_name": "LayoutModel",
      "state": {}
     },
     "5a1868397b654ce2b7cf9626486552d2": {
      "model_module": "@jupyter-widgets/controls",
      "model_module_version": "2.0.0",
      "model_name": "ButtonModel",
      "state": {
       "description": "Submit",
       "layout": "IPY_MODEL_6078b790a9224fb8b78c176eed50b8aa",
       "style": "IPY_MODEL_217e329b064149faa4756b729273c110",
       "tooltip": null
      }
     },
     "5bd1efe886f54965ae168772f5a1411f": {
      "model_module": "@jupyter-widgets/output",
      "model_module_version": "1.0.0",
      "model_name": "OutputModel",
      "state": {
       "layout": "IPY_MODEL_d8b45025747348e2af890cc49ea65b61"
      }
     },
     "5e1723255fe848fb87059461214b5cfb": {
      "model_module": "@jupyter-widgets/controls",
      "model_module_version": "2.0.0",
      "model_name": "DescriptionStyleModel",
      "state": {
       "description_width": ""
      }
     },
     "6078b790a9224fb8b78c176eed50b8aa": {
      "model_module": "@jupyter-widgets/base",
      "model_module_version": "2.0.0",
      "model_name": "LayoutModel",
      "state": {}
     },
     "612cead327894369a1bca21d7ed2d5a1": {
      "model_module": "@jupyter-widgets/base",
      "model_module_version": "2.0.0",
      "model_name": "LayoutModel",
      "state": {}
     },
     "630db6b88a88439cafc464d2c1f6439a": {
      "model_module": "@jupyter-widgets/output",
      "model_module_version": "1.0.0",
      "model_name": "OutputModel",
      "state": {
       "layout": "IPY_MODEL_777c893210d342a4893f1d40fcb635ab"
      }
     },
     "640ef797161647df9d5cabb784078998": {
      "model_module": "@jupyter-widgets/base",
      "model_module_version": "2.0.0",
      "model_name": "LayoutModel",
      "state": {}
     },
     "647548cf72014c3eaf1e3e28e0fbc0a5": {
      "model_module": "@jupyter-widgets/controls",
      "model_module_version": "2.0.0",
      "model_name": "FloatTextModel",
      "state": {
       "description": "Input 1:",
       "layout": "IPY_MODEL_d0f32eb6b5954ccebdc898e86b378e20",
       "step": null,
       "style": "IPY_MODEL_e5173fe973d34adeb4d808a16b59e1c8",
       "value": 1
      }
     },
     "66b5f836b2fd4f3b8265f48cbedff771": {
      "model_module": "@jupyter-widgets/controls",
      "model_module_version": "2.0.0",
      "model_name": "DescriptionStyleModel",
      "state": {
       "description_width": ""
      }
     },
     "6731c4319de446fa8e4963d2133ae6bd": {
      "model_module": "@jupyter-widgets/controls",
      "model_module_version": "2.0.0",
      "model_name": "VBoxModel",
      "state": {
       "children": [
        "IPY_MODEL_fc39cb9f4f6742af9cc7cb1e9b7925ee",
        "IPY_MODEL_49cc71a8757646cea5377667edd2e13f",
        "IPY_MODEL_6b540da1d8b74fde81eda38237588e9e",
        "IPY_MODEL_0ada32629524406da73e045844f2ad8e",
        "IPY_MODEL_90c9c9ab153c4b82a7f4149ab3375c63"
       ],
       "layout": "IPY_MODEL_b9ae72a8d69c4947b18f65b9cf76c40e"
      }
     },
     "6b0c7e73398e400295b43b448dfe7b59": {
      "model_module": "@jupyter-widgets/controls",
      "model_module_version": "2.0.0",
      "model_name": "SliderStyleModel",
      "state": {
       "description_width": ""
      }
     },
     "6b540da1d8b74fde81eda38237588e9e": {
      "model_module": "@jupyter-widgets/controls",
      "model_module_version": "2.0.0",
      "model_name": "IntSliderModel",
      "state": {
       "behavior": "drag-tap",
       "description": "Slider:",
       "layout": "IPY_MODEL_c73114b758da44309870b3d13a2892d7",
       "style": "IPY_MODEL_c3c72ef4a6e34ab1b64ad9f56654112a",
       "value": 11
      }
     },
     "6bfe6cb473244a9d848dfc7dfd0f4e8c": {
      "model_module": "@jupyter-widgets/controls",
      "model_module_version": "2.0.0",
      "model_name": "DescriptionStyleModel",
      "state": {
       "description_width": ""
      }
     },
     "6e0a15c5289c4a049092ea26665eb2c5": {
      "model_module": "@jupyter-widgets/base",
      "model_module_version": "2.0.0",
      "model_name": "LayoutModel",
      "state": {}
     },
     "71e1173221984ab380758bd3216eb2c9": {
      "model_module": "@jupyter-widgets/base",
      "model_module_version": "2.0.0",
      "model_name": "LayoutModel",
      "state": {}
     },
     "762bdb0bc6f440859a80d9502431b8dc": {
      "model_module": "@jupyter-widgets/controls",
      "model_module_version": "2.0.0",
      "model_name": "FloatTextModel",
      "state": {
       "description": "Input 1:",
       "layout": "IPY_MODEL_c200e6910abf40c7a762ea5394fbde5b",
       "step": null,
       "style": "IPY_MODEL_91eaea603f5d4c85b60045ae58e36dbf",
       "value": 1
      }
     },
     "777c893210d342a4893f1d40fcb635ab": {
      "model_module": "@jupyter-widgets/base",
      "model_module_version": "2.0.0",
      "model_name": "LayoutModel",
      "state": {}
     },
     "77aeec5e724a4616af34c2ad1080eac2": {
      "model_module": "@jupyter-widgets/controls",
      "model_module_version": "2.0.0",
      "model_name": "FloatTextModel",
      "state": {
       "description": "Input 2:",
       "layout": "IPY_MODEL_19a66ca9f3f44e0ca8f3d50c291acdaa",
       "step": null,
       "style": "IPY_MODEL_bcc97cd541d5476a91aa74be77a07db5",
       "value": 4
      }
     },
     "78e58f46e09d47ae9e58c133562e3f88": {
      "model_module": "@jupyter-widgets/controls",
      "model_module_version": "2.0.0",
      "model_name": "ButtonModel",
      "state": {
       "description": "Submit",
       "layout": "IPY_MODEL_f342901227d84dad8a3c9455367a6864",
       "style": "IPY_MODEL_a6b5ec0d9ea240668baa189d05322228",
       "tooltip": null
      }
     },
     "7ce7994567cd400196573a7d78087c62": {
      "model_module": "@jupyter-widgets/base",
      "model_module_version": "2.0.0",
      "model_name": "LayoutModel",
      "state": {}
     },
     "7fa7629d503147d2b76f524b6008bdab": {
      "model_module": "@jupyter-widgets/output",
      "model_module_version": "1.0.0",
      "model_name": "OutputModel",
      "state": {
       "layout": "IPY_MODEL_bd804cd9e713433ea782aaf8eed69e60",
       "outputs": [
        {
         "name": "stdout",
         "output_type": "stream",
         "text": "Output: (0.0 × 0.0) + 0 = 0.0\n"
        }
       ]
      }
     },
     "7fc8f7b213a44511a436aedfd37a50f0": {
      "model_module": "@jupyter-widgets/controls",
      "model_module_version": "2.0.0",
      "model_name": "FloatTextModel",
      "state": {
       "description": "Input 2:",
       "layout": "IPY_MODEL_d2fae820f98548cba843f04135006a2e",
       "step": null,
       "style": "IPY_MODEL_9d77a915335649f0ac3c0339ee328b26",
       "value": 2
      }
     },
     "80a2433f2657469fbe6d4c480540a7ab": {
      "model_module": "@jupyter-widgets/controls",
      "model_module_version": "2.0.0",
      "model_name": "VBoxModel",
      "state": {
       "children": [
        "IPY_MODEL_647548cf72014c3eaf1e3e28e0fbc0a5",
        "IPY_MODEL_8c0f577d55bb43a1b0cdab1d6cdda954",
        "IPY_MODEL_e80abddc9bc84482b3ff8cbb917b1ae4",
        "IPY_MODEL_c62054da8ac04d07a737dfe97fbac7a6",
        "IPY_MODEL_a37fe31ab6ce484b88be0651506a664b"
       ],
       "layout": "IPY_MODEL_fc0a786bea8b420cb8d50c5063952a2d"
      }
     },
     "80d5af2a370d48f19b0a63bae3dba898": {
      "model_module": "@jupyter-widgets/base",
      "model_module_version": "2.0.0",
      "model_name": "LayoutModel",
      "state": {}
     },
     "82730b59f0b04779914469b64e5c3127": {
      "model_module": "@jupyter-widgets/base",
      "model_module_version": "2.0.0",
      "model_name": "LayoutModel",
      "state": {}
     },
     "85406832e4ae42029ff37dd908441bdc": {
      "model_module": "@jupyter-widgets/base",
      "model_module_version": "2.0.0",
      "model_name": "LayoutModel",
      "state": {}
     },
     "86264bb2537c4d959405d962fc6e57ce": {
      "model_module": "@jupyter-widgets/base",
      "model_module_version": "2.0.0",
      "model_name": "LayoutModel",
      "state": {}
     },
     "86e381dddcd54d2dbb371b36eddb15aa": {
      "model_module": "@jupyter-widgets/controls",
      "model_module_version": "2.0.0",
      "model_name": "SliderStyleModel",
      "state": {
       "description_width": ""
      }
     },
     "891b5b3a921f44b898bf7ecf2cce582d": {
      "model_module": "@jupyter-widgets/controls",
      "model_module_version": "2.0.0",
      "model_name": "VBoxModel",
      "state": {
       "children": [
        "IPY_MODEL_94ecb489bb0842569edcab68919a1bc2",
        "IPY_MODEL_a1456d0e2f7642088cf38a4fd117d755",
        "IPY_MODEL_35e152b8074a492ab9c103d363a872cd",
        "IPY_MODEL_5a1868397b654ce2b7cf9626486552d2",
        "IPY_MODEL_7fa7629d503147d2b76f524b6008bdab"
       ],
       "layout": "IPY_MODEL_f4290c0a3fb74785857b0d056a47ecbf"
      }
     },
     "8ac94e132c944bc6ad79379462afe2b9": {
      "model_module": "@jupyter-widgets/base",
      "model_module_version": "2.0.0",
      "model_name": "LayoutModel",
      "state": {}
     },
     "8c0f577d55bb43a1b0cdab1d6cdda954": {
      "model_module": "@jupyter-widgets/controls",
      "model_module_version": "2.0.0",
      "model_name": "FloatTextModel",
      "state": {
       "description": "Input 2:",
       "layout": "IPY_MODEL_a018b1e1fb84474d80e84b613ffaa841",
       "step": null,
       "style": "IPY_MODEL_211f4ed3092946febcaec69796cf9054",
       "value": 2
      }
     },
     "8d65d7566fd94f4db58174d568242130": {
      "model_module": "@jupyter-widgets/base",
      "model_module_version": "2.0.0",
      "model_name": "LayoutModel",
      "state": {}
     },
     "90c9c9ab153c4b82a7f4149ab3375c63": {
      "model_module": "@jupyter-widgets/output",
      "model_module_version": "1.0.0",
      "model_name": "OutputModel",
      "state": {
       "layout": "IPY_MODEL_af782d9f7bb24b2c99f5900acad52dc7"
      }
     },
     "91eaea603f5d4c85b60045ae58e36dbf": {
      "model_module": "@jupyter-widgets/controls",
      "model_module_version": "2.0.0",
      "model_name": "DescriptionStyleModel",
      "state": {
       "description_width": ""
      }
     },
     "9282fa203cf74ccea3c92bcd93ea25d7": {
      "model_module": "@jupyter-widgets/output",
      "model_module_version": "1.0.0",
      "model_name": "OutputModel",
      "state": {
       "layout": "IPY_MODEL_a497f2c148ea4e798c1e93d870a9a269"
      }
     },
     "946941711e994f74a2ab39639ca12bb8": {
      "model_module": "@jupyter-widgets/controls",
      "model_module_version": "2.0.0",
      "model_name": "SliderStyleModel",
      "state": {
       "description_width": ""
      }
     },
     "94ecb489bb0842569edcab68919a1bc2": {
      "model_module": "@jupyter-widgets/controls",
      "model_module_version": "2.0.0",
      "model_name": "FloatTextModel",
      "state": {
       "description": "Input 1:",
       "layout": "IPY_MODEL_9af04418d06d440dbc66535551888433",
       "step": null,
       "style": "IPY_MODEL_c65d2a4730b3465cb90057a1dc5b96d8"
      }
     },
     "951a040a33e24a0f98418b51186752bd": {
      "model_module": "@jupyter-widgets/base",
      "model_module_version": "2.0.0",
      "model_name": "LayoutModel",
      "state": {}
     },
     "96ccb3eaddd645e98112c12833db54b6": {
      "model_module": "@jupyter-widgets/controls",
      "model_module_version": "2.0.0",
      "model_name": "ButtonStyleModel",
      "state": {
       "font_family": null,
       "font_size": null,
       "font_style": null,
       "font_variant": null,
       "font_weight": null,
       "text_color": null,
       "text_decoration": null
      }
     },
     "9af04418d06d440dbc66535551888433": {
      "model_module": "@jupyter-widgets/base",
      "model_module_version": "2.0.0",
      "model_name": "LayoutModel",
      "state": {}
     },
     "9d77a915335649f0ac3c0339ee328b26": {
      "model_module": "@jupyter-widgets/controls",
      "model_module_version": "2.0.0",
      "model_name": "DescriptionStyleModel",
      "state": {
       "description_width": ""
      }
     },
     "9dbe1c95bb574035a60375f5f8755191": {
      "model_module": "@jupyter-widgets/output",
      "model_module_version": "1.0.0",
      "model_name": "OutputModel",
      "state": {
       "layout": "IPY_MODEL_cce5f0ccdaac448485c862e3eefab839",
       "outputs": [
        {
         "name": "stdout",
         "output_type": "stream",
         "text": "(3.0 × 4.0) + 28 = 40.0\n"
        }
       ]
      }
     },
     "a018b1e1fb84474d80e84b613ffaa841": {
      "model_module": "@jupyter-widgets/base",
      "model_module_version": "2.0.0",
      "model_name": "LayoutModel",
      "state": {}
     },
     "a1456d0e2f7642088cf38a4fd117d755": {
      "model_module": "@jupyter-widgets/controls",
      "model_module_version": "2.0.0",
      "model_name": "FloatTextModel",
      "state": {
       "description": "Input 2:",
       "layout": "IPY_MODEL_80d5af2a370d48f19b0a63bae3dba898",
       "step": null,
       "style": "IPY_MODEL_5e1723255fe848fb87059461214b5cfb"
      }
     },
     "a1ed5a068c1645e1b4a4560fe63317cb": {
      "model_module": "@jupyter-widgets/output",
      "model_module_version": "1.0.0",
      "model_name": "OutputModel",
      "state": {
       "layout": "IPY_MODEL_86264bb2537c4d959405d962fc6e57ce"
      }
     },
     "a37fe31ab6ce484b88be0651506a664b": {
      "model_module": "@jupyter-widgets/output",
      "model_module_version": "1.0.0",
      "model_name": "OutputModel",
      "state": {
       "layout": "IPY_MODEL_e942746fb8d44f19af5991938e76d640"
      }
     },
     "a497f2c148ea4e798c1e93d870a9a269": {
      "model_module": "@jupyter-widgets/base",
      "model_module_version": "2.0.0",
      "model_name": "LayoutModel",
      "state": {}
     },
     "a592c7c9164747c388dcc47716cc4651": {
      "model_module": "@jupyter-widgets/controls",
      "model_module_version": "2.0.0",
      "model_name": "ButtonModel",
      "state": {
       "button_style": "success",
       "description": "Submit",
       "layout": "IPY_MODEL_6e0a15c5289c4a049092ea26665eb2c5",
       "style": "IPY_MODEL_afb92164ed634807870f464bf52018ea",
       "tooltip": null
      }
     },
     "a5f65a0850e148ce998ed668483e9037": {
      "model_module": "@jupyter-widgets/base",
      "model_module_version": "2.0.0",
      "model_name": "LayoutModel",
      "state": {}
     },
     "a6b5ec0d9ea240668baa189d05322228": {
      "model_module": "@jupyter-widgets/controls",
      "model_module_version": "2.0.0",
      "model_name": "ButtonStyleModel",
      "state": {
       "font_family": null,
       "font_size": null,
       "font_style": null,
       "font_variant": null,
       "font_weight": null,
       "text_color": null,
       "text_decoration": null
      }
     },
     "adda88707d8d4c0ea3d7d960a9c137ac": {
      "model_module": "@jupyter-widgets/controls",
      "model_module_version": "2.0.0",
      "model_name": "ButtonModel",
      "state": {
       "button_style": "success",
       "description": "Submit",
       "layout": "IPY_MODEL_f6cee1e12622486d93a9f612e2e39fda",
       "style": "IPY_MODEL_217752fcd1eb4d44969b08965bc1076c",
       "tooltip": null
      }
     },
     "aed2cca3d8eb4b02b8225eaa16185069": {
      "model_module": "@jupyter-widgets/base",
      "model_module_version": "2.0.0",
      "model_name": "LayoutModel",
      "state": {}
     },
     "aed40954a3f940068481c5dab55c8b63": {
      "model_module": "@jupyter-widgets/controls",
      "model_module_version": "2.0.0",
      "model_name": "SliderStyleModel",
      "state": {
       "description_width": ""
      }
     },
     "af782d9f7bb24b2c99f5900acad52dc7": {
      "model_module": "@jupyter-widgets/base",
      "model_module_version": "2.0.0",
      "model_name": "LayoutModel",
      "state": {}
     },
     "afb92164ed634807870f464bf52018ea": {
      "model_module": "@jupyter-widgets/controls",
      "model_module_version": "2.0.0",
      "model_name": "ButtonStyleModel",
      "state": {
       "font_family": null,
       "font_size": null,
       "font_style": null,
       "font_variant": null,
       "font_weight": null,
       "text_color": null,
       "text_decoration": null
      }
     },
     "b1bee305b77c4adfa1b10a5adc103c74": {
      "model_module": "@jupyter-widgets/base",
      "model_module_version": "2.0.0",
      "model_name": "LayoutModel",
      "state": {}
     },
     "b651c489bd7c4cfe961cae5bff0bbb29": {
      "model_module": "@jupyter-widgets/base",
      "model_module_version": "2.0.0",
      "model_name": "LayoutModel",
      "state": {}
     },
     "b9ae72a8d69c4947b18f65b9cf76c40e": {
      "model_module": "@jupyter-widgets/base",
      "model_module_version": "2.0.0",
      "model_name": "LayoutModel",
      "state": {}
     },
     "ba61b995825044a5b51c569234638b04": {
      "model_module": "@jupyter-widgets/controls",
      "model_module_version": "2.0.0",
      "model_name": "IntSliderModel",
      "state": {
       "behavior": "drag-tap",
       "description": "Slider:",
       "layout": "IPY_MODEL_85406832e4ae42029ff37dd908441bdc",
       "style": "IPY_MODEL_f4785dd0825b43548158379e66227603",
       "value": 28
      }
     },
     "bcc97cd541d5476a91aa74be77a07db5": {
      "model_module": "@jupyter-widgets/controls",
      "model_module_version": "2.0.0",
      "model_name": "DescriptionStyleModel",
      "state": {
       "description_width": ""
      }
     },
     "bd804cd9e713433ea782aaf8eed69e60": {
      "model_module": "@jupyter-widgets/base",
      "model_module_version": "2.0.0",
      "model_name": "LayoutModel",
      "state": {}
     },
     "c200e6910abf40c7a762ea5394fbde5b": {
      "model_module": "@jupyter-widgets/base",
      "model_module_version": "2.0.0",
      "model_name": "LayoutModel",
      "state": {}
     },
     "c3c72ef4a6e34ab1b64ad9f56654112a": {
      "model_module": "@jupyter-widgets/controls",
      "model_module_version": "2.0.0",
      "model_name": "SliderStyleModel",
      "state": {
       "description_width": ""
      }
     },
     "c62054da8ac04d07a737dfe97fbac7a6": {
      "model_module": "@jupyter-widgets/controls",
      "model_module_version": "2.0.0",
      "model_name": "ButtonModel",
      "state": {
       "button_style": "success",
       "description": "Submit",
       "layout": "IPY_MODEL_38e5669b8b7d451f89aacbc71c47e830",
       "style": "IPY_MODEL_0bfcd61fc87a40a58df6cba883d0e5d4",
       "tooltip": null
      }
     },
     "c65d2a4730b3465cb90057a1dc5b96d8": {
      "model_module": "@jupyter-widgets/controls",
      "model_module_version": "2.0.0",
      "model_name": "DescriptionStyleModel",
      "state": {
       "description_width": ""
      }
     },
     "c73114b758da44309870b3d13a2892d7": {
      "model_module": "@jupyter-widgets/base",
      "model_module_version": "2.0.0",
      "model_name": "LayoutModel",
      "state": {}
     },
     "c8e22a17d172490ca07bd29146d9ef18": {
      "model_module": "@jupyter-widgets/controls",
      "model_module_version": "2.0.0",
      "model_name": "FloatTextModel",
      "state": {
       "description": "Input 2:",
       "layout": "IPY_MODEL_4e7b3673f57e4f3cb552f227ac945805",
       "step": null,
       "style": "IPY_MODEL_45263adf732146aa8bee55e2b162ebac"
      }
     },
     "cbfdeb2240a94d1d8d7e72ff14182796": {
      "model_module": "@jupyter-widgets/base",
      "model_module_version": "2.0.0",
      "model_name": "LayoutModel",
      "state": {}
     },
     "cce5f0ccdaac448485c862e3eefab839": {
      "model_module": "@jupyter-widgets/base",
      "model_module_version": "2.0.0",
      "model_name": "LayoutModel",
      "state": {}
     },
     "cd73f6df0d5743bcbcc18b3789b1e0d2": {
      "model_module": "@jupyter-widgets/base",
      "model_module_version": "2.0.0",
      "model_name": "LayoutModel",
      "state": {}
     },
     "d0f32eb6b5954ccebdc898e86b378e20": {
      "model_module": "@jupyter-widgets/base",
      "model_module_version": "2.0.0",
      "model_name": "LayoutModel",
      "state": {}
     },
     "d2fae820f98548cba843f04135006a2e": {
      "model_module": "@jupyter-widgets/base",
      "model_module_version": "2.0.0",
      "model_name": "LayoutModel",
      "state": {}
     },
     "d3026d04702d4a7f87e985464867df76": {
      "model_module": "@jupyter-widgets/controls",
      "model_module_version": "2.0.0",
      "model_name": "DescriptionStyleModel",
      "state": {
       "description_width": ""
      }
     },
     "d8b45025747348e2af890cc49ea65b61": {
      "model_module": "@jupyter-widgets/base",
      "model_module_version": "2.0.0",
      "model_name": "LayoutModel",
      "state": {}
     },
     "db337203b2024e179280f8c3b1a78297": {
      "model_module": "@jupyter-widgets/controls",
      "model_module_version": "2.0.0",
      "model_name": "SliderStyleModel",
      "state": {
       "description_width": ""
      }
     },
     "dd0a284fd07f44f483527504f271d58e": {
      "model_module": "@jupyter-widgets/controls",
      "model_module_version": "2.0.0",
      "model_name": "DescriptionStyleModel",
      "state": {
       "description_width": ""
      }
     },
     "ded1538b1b044a928cd863e6d41000ed": {
      "model_module": "@jupyter-widgets/base",
      "model_module_version": "2.0.0",
      "model_name": "LayoutModel",
      "state": {}
     },
     "dfc54e89c62a4f0e84af4d945f506e3d": {
      "model_module": "@jupyter-widgets/controls",
      "model_module_version": "2.0.0",
      "model_name": "FloatTextModel",
      "state": {
       "description": "Input 1:",
       "layout": "IPY_MODEL_e6349ebb6f3a47dfae4fb479c86ff7a5",
       "step": null,
       "style": "IPY_MODEL_d3026d04702d4a7f87e985464867df76"
      }
     },
     "e0554315f2ac4280a429a65c692ab1bc": {
      "model_module": "@jupyter-widgets/controls",
      "model_module_version": "2.0.0",
      "model_name": "SliderStyleModel",
      "state": {
       "description_width": ""
      }
     },
     "e5173fe973d34adeb4d808a16b59e1c8": {
      "model_module": "@jupyter-widgets/controls",
      "model_module_version": "2.0.0",
      "model_name": "DescriptionStyleModel",
      "state": {
       "description_width": ""
      }
     },
     "e5464f282608421dbefacd68953f6b67": {
      "model_module": "@jupyter-widgets/base",
      "model_module_version": "2.0.0",
      "model_name": "LayoutModel",
      "state": {}
     },
     "e6349ebb6f3a47dfae4fb479c86ff7a5": {
      "model_module": "@jupyter-widgets/base",
      "model_module_version": "2.0.0",
      "model_name": "LayoutModel",
      "state": {}
     },
     "e80abddc9bc84482b3ff8cbb917b1ae4": {
      "model_module": "@jupyter-widgets/controls",
      "model_module_version": "2.0.0",
      "model_name": "IntSliderModel",
      "state": {
       "behavior": "drag-tap",
       "description": "Slider:",
       "layout": "IPY_MODEL_aed2cca3d8eb4b02b8225eaa16185069",
       "style": "IPY_MODEL_946941711e994f74a2ab39639ca12bb8",
       "value": 10
      }
     },
     "e942746fb8d44f19af5991938e76d640": {
      "model_module": "@jupyter-widgets/base",
      "model_module_version": "2.0.0",
      "model_name": "LayoutModel",
      "state": {}
     },
     "ea594a30571d43a49a4facdbb7f5541c": {
      "model_module": "@jupyter-widgets/output",
      "model_module_version": "1.0.0",
      "model_name": "OutputModel",
      "state": {
       "layout": "IPY_MODEL_8ac94e132c944bc6ad79379462afe2b9"
      }
     },
     "ed4b3e41bdce43c095e91f996bb2ef67": {
      "model_module": "@jupyter-widgets/controls",
      "model_module_version": "2.0.0",
      "model_name": "ButtonStyleModel",
      "state": {
       "font_family": null,
       "font_size": null,
       "font_style": null,
       "font_variant": null,
       "font_weight": null,
       "text_color": null,
       "text_decoration": null
      }
     },
     "f0b103cf430b4d22b962400156d5cefe": {
      "model_module": "@jupyter-widgets/base",
      "model_module_version": "2.0.0",
      "model_name": "LayoutModel",
      "state": {}
     },
     "f195c3efa77a498f9e60122bc49bb651": {
      "model_module": "@jupyter-widgets/base",
      "model_module_version": "2.0.0",
      "model_name": "LayoutModel",
      "state": {}
     },
     "f342901227d84dad8a3c9455367a6864": {
      "model_module": "@jupyter-widgets/base",
      "model_module_version": "2.0.0",
      "model_name": "LayoutModel",
      "state": {}
     },
     "f4290c0a3fb74785857b0d056a47ecbf": {
      "model_module": "@jupyter-widgets/base",
      "model_module_version": "2.0.0",
      "model_name": "LayoutModel",
      "state": {}
     },
     "f4785dd0825b43548158379e66227603": {
      "model_module": "@jupyter-widgets/controls",
      "model_module_version": "2.0.0",
      "model_name": "SliderStyleModel",
      "state": {
       "description_width": ""
      }
     },
     "f6ca57a3031f46eeab1318da6bb928ca": {
      "model_module": "@jupyter-widgets/controls",
      "model_module_version": "2.0.0",
      "model_name": "IntSliderModel",
      "state": {
       "behavior": "drag-tap",
       "description": "Slider:",
       "layout": "IPY_MODEL_612cead327894369a1bca21d7ed2d5a1",
       "style": "IPY_MODEL_e0554315f2ac4280a429a65c692ab1bc",
       "value": 10
      }
     },
     "f6cee1e12622486d93a9f612e2e39fda": {
      "model_module": "@jupyter-widgets/base",
      "model_module_version": "2.0.0",
      "model_name": "LayoutModel",
      "state": {}
     },
     "f8c45ef8f3324fce9b3272e2af290ade": {
      "model_module": "@jupyter-widgets/controls",
      "model_module_version": "2.0.0",
      "model_name": "FloatTextModel",
      "state": {
       "description": "Input 1:",
       "layout": "IPY_MODEL_b651c489bd7c4cfe961cae5bff0bbb29",
       "step": null,
       "style": "IPY_MODEL_30719efeb8fa425ea979b0eedd2778b2",
       "value": 1
      }
     },
     "fb3d91a8aba844339920b2e439269373": {
      "model_module": "@jupyter-widgets/controls",
      "model_module_version": "2.0.0",
      "model_name": "DescriptionStyleModel",
      "state": {
       "description_width": ""
      }
     },
     "fc0a786bea8b420cb8d50c5063952a2d": {
      "model_module": "@jupyter-widgets/base",
      "model_module_version": "2.0.0",
      "model_name": "LayoutModel",
      "state": {}
     },
     "fc39cb9f4f6742af9cc7cb1e9b7925ee": {
      "model_module": "@jupyter-widgets/controls",
      "model_module_version": "2.0.0",
      "model_name": "FloatTextModel",
      "state": {
       "description": "Input 1:",
       "layout": "IPY_MODEL_0d8ae6db10fc408088ebcfcf9fbfd336",
       "step": null,
       "style": "IPY_MODEL_dd0a284fd07f44f483527504f271d58e",
       "value": 2
      }
     }
    },
    "version_major": 2,
    "version_minor": 0
   }
  }
 },
 "nbformat": 4,
 "nbformat_minor": 5
}
